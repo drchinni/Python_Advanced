{
 "cells": [
  {
   "cell_type": "markdown",
   "metadata": {},
   "source": [
    "## Part 1 Sandwiches: \n",
    "    \n",
    "    Write a function that accepts a list of items a person wants on a sandwich. \n",
    "    The function should have one parameter that collects as many items as the function call provides, \n",
    "        and it should print a summary of the sandwich that’s being ordered. \n",
    "    Call the function three times, using a different number of arguments each time"
   ]
  },
  {
   "cell_type": "code",
   "execution_count": null,
   "metadata": {},
   "outputs": [],
   "source": []
  },
  {
   "cell_type": "code",
   "execution_count": 1,
   "metadata": {},
   "outputs": [
    {
     "name": "stdout",
     "output_type": "stream",
     "text": [
      "\n",
      "I am preparing your sandwich.  Give me five minutes.\n",
      "     Now getting and adding bread to your sandwich.\n",
      "     Now getting and adding roast chicken to your sandwich.\n",
      "     Now getting and adding lettuce to your sandwich.\n",
      "     Now getting and adding cucumber to your sandwich.\n",
      "     Now getting and adding mayo to your sandwich.\n",
      "\n",
      "Now cutting into quarters and packing\n",
      "Here is your sandwich.  Would you like to add crisps and a drink?\n",
      "\n",
      "I am preparing your sandwich.  Give me five minutes.\n",
      "     Now getting and adding bread to your sandwich.\n",
      "     Now getting and adding egg mayo to your sandwich.\n",
      "     Now getting and adding yogurt to your sandwich.\n",
      "     Now getting and adding chutney to your sandwich.\n",
      "     Now getting and adding curry paste to your sandwich.\n",
      "     Now getting and adding spring onions to your sandwich.\n",
      "     Now getting and adding coriander to your sandwich.\n",
      "\n",
      "Now cutting into quarters and packing\n",
      "Here is your sandwich.  Would you like to add crisps and a drink?\n",
      "\n",
      "I am preparing your sandwich.  Give me five minutes.\n",
      "     Now getting and adding bread to your sandwich.\n",
      "     Now getting and adding egg to your sandwich.\n",
      "     Now getting and adding tomato to your sandwich.\n",
      "     Now getting and adding bacon to your sandwich.\n",
      "     Now getting and adding another slice of bread to your sandwich.\n",
      "     Now getting and adding chicken to your sandwich.\n",
      "     Now getting and adding bacon to your sandwich.\n",
      "     Now getting and adding lettuce to your sandwich.\n",
      "\n",
      "Now cutting into quarters and packing\n",
      "Here is your sandwich.  Would you like to add crisps and a drink?\n"
     ]
    }
   ],
   "source": [
    "def sandwich(*ingredients): \n",
    "    \"\"\"This function accepts a list of items a person wants on a sandwich. \n",
    "       This will have one parameter to collect as many as items as the function call provides\n",
    "           and it prints a summary of the sandwich that's being ordered\"\"\"\n",
    "    print(\"\\nI am preparing your sandwich.  Give me five minutes.\") # Take the order and give a message to the user.\n",
    "    for ingredient in ingredients:\n",
    "        print(\"     Now getting and adding \" + ingredient + \" to your sandwich.\") #print an ingredient of the sandwich that's being ordered\n",
    "    print(\"\\nNow cutting into quarters and packing\")\n",
    "    print(\"Here is your sandwich.  Would you like to add crisps and a drink?\")\n",
    "\n",
    "# Call the function 3 times\n",
    "\n",
    "sandwich('bread', 'roast chicken', 'lettuce', 'cucumber', 'mayo')\n",
    "sandwich('bread', 'egg mayo', 'yogurt', 'chutney', 'curry paste', 'spring onions', 'coriander')\n",
    "sandwich('bread', 'egg', 'tomato', 'bacon', 'another slice of bread', 'chicken', 'bacon', 'lettuce')\n"
   ]
  },
  {
   "cell_type": "code",
   "execution_count": null,
   "metadata": {},
   "outputs": [],
   "source": []
  },
  {
   "cell_type": "markdown",
   "metadata": {},
   "source": [
    "## Part 2 Cars\n",
    "\n",
    "Write a function that stores information about a car in a dictionary. \n",
    "The function should always receive a manufacturer and a model name. \n",
    "It should then accept an arbitrary number of keyword arguments. \n",
    "Call the function with the required information and two other name-value pairs, such as a color or an optional feature. \n",
    "Your function should work for a call like this one:\n",
    "\n",
    "car = make_car('subaru', 'outback', color='blue', tow_package=True)\n",
    "\n",
    "Print the dictionary that’s returned to make sure all the information was stored correctly."
   ]
  },
  {
   "cell_type": "code",
   "execution_count": null,
   "metadata": {},
   "outputs": [],
   "source": []
  },
  {
   "cell_type": "code",
   "execution_count": 2,
   "metadata": {},
   "outputs": [
    {
     "name": "stdout",
     "output_type": "stream",
     "text": [
      "\n",
      "Your configuration is: {'Manufacturer': 'Lexus', 'Model_Name': 'Rx 450H', 'Color': 'metallic blue', 'Alloy_wheels': True, 'Panoramic_roof': True}\n",
      "\n",
      "Your configuration is: {'Manufacturer': 'Lexus', 'Model_Name': 'Rx 450H Takumi', 'Color': 'Sonic Titanium', 'Takumi_pack': True, 'Apple_carplay': True}\n",
      "\n",
      "Your configuration is: {'Manufacturer': 'Lexus', 'Model_Name': 'Rx 450H F Sport', 'Color': 'Graphite Black', 'Tech_Safety_Pack': True, 'Active_stabilizer': True}\n"
     ]
    }
   ],
   "source": [
    "def make_car(manufacturer, model_name, **optional_packs): # **packs can take a 0 or more values\n",
    "    \"\"\"This stores information about a car in a dictionary.\"\"\"\n",
    "    car = {'Manufacturer': manufacturer.title(), 'Model_Name': model_name.title(),\n",
    "        }\n",
    "    for option, pack in optional_packs.items():\n",
    "        car[option] = pack\n",
    "    return car\n",
    "\n",
    "Lexus_RX = make_car('Lexus', 'RX 450h', Color='metallic blue', Alloy_wheels=True, Panoramic_roof=True )\n",
    "print('\\nYour configuration is:', Lexus_RX)\n",
    "\n",
    "Lexus_RX_Takumi = make_car('Lexus', 'RX 450h Takumi', Color='Sonic Titanium', Takumi_pack=True, Apple_carplay=True )\n",
    "print('\\nYour configuration is:', Lexus_RX_Takumi)\n",
    "\n",
    "Lexus_RX_F_Sport = make_car('Lexus', 'RX 450h F Sport', Color='Graphite Black', Tech_Safety_Pack=True, Active_stabilizer=True )\n",
    "print('\\nYour configuration is:', Lexus_RX_F_Sport)"
   ]
  },
  {
   "cell_type": "code",
   "execution_count": null,
   "metadata": {},
   "outputs": [],
   "source": []
  },
  {
   "cell_type": "markdown",
   "metadata": {},
   "source": [
    "## Part 3 :ValueError\n",
    "    \n",
    "    One common problem when prompting for numerical input occurs when people provide text instead of numbers. \n",
    "    When you try to convert the input to an int, you’ll get a ValueError. \n",
    "    Write a program that prompts for two numbers. Add them together and print the result. \n",
    "    Catch the ValueError if either input value is not a number, and print a friendly error message. \n",
    "    Test your program by entering two numbers and then by entering some text instead of a number. "
   ]
  },
  {
   "cell_type": "code",
   "execution_count": null,
   "metadata": {},
   "outputs": [],
   "source": []
  },
  {
   "cell_type": "code",
   "execution_count": 3,
   "metadata": {},
   "outputs": [
    {
     "name": "stdout",
     "output_type": "stream",
     "text": [
      "Enter the first number: 24\n",
      "Now enter the second number: forty\n"
     ]
    },
    {
     "ename": "ValueError",
     "evalue": "invalid literal for int() with base 10: 'forty'",
     "output_type": "error",
     "traceback": [
      "\u001b[0;31m---------------------------------------------------------------------------\u001b[0m",
      "\u001b[0;31mValueError\u001b[0m                                Traceback (most recent call last)",
      "\u001b[0;32m<ipython-input-3-7784b39b80db>\u001b[0m in \u001b[0;36m<module>\u001b[0;34m\u001b[0m\n\u001b[1;32m      1\u001b[0m \u001b[0ma\u001b[0m \u001b[0;34m=\u001b[0m \u001b[0mint\u001b[0m\u001b[0;34m(\u001b[0m\u001b[0minput\u001b[0m\u001b[0;34m(\u001b[0m\u001b[0;34m\"Enter the first number: \"\u001b[0m\u001b[0;34m)\u001b[0m\u001b[0;34m)\u001b[0m\u001b[0;34m\u001b[0m\u001b[0;34m\u001b[0m\u001b[0m\n\u001b[0;32m----> 2\u001b[0;31m \u001b[0mb\u001b[0m \u001b[0;34m=\u001b[0m \u001b[0mint\u001b[0m\u001b[0;34m(\u001b[0m\u001b[0minput\u001b[0m\u001b[0;34m(\u001b[0m\u001b[0;34m\"Now enter the second number: \"\u001b[0m\u001b[0;34m)\u001b[0m\u001b[0;34m)\u001b[0m\u001b[0;34m\u001b[0m\u001b[0;34m\u001b[0m\u001b[0m\n\u001b[0m",
      "\u001b[0;31mValueError\u001b[0m: invalid literal for int() with base 10: 'forty'"
     ]
    }
   ],
   "source": [
    "a = int(input(\"Enter the first number: \"))\n",
    "b = int(input(\"Now enter the second number: \"))\n"
   ]
  },
  {
   "cell_type": "code",
   "execution_count": null,
   "metadata": {},
   "outputs": [
    {
     "name": "stdout",
     "output_type": "stream",
     "text": [
      "Enter the first number: 24\n",
      "Now enter the second number: 42\n",
      "\n",
      "The sum of these two numbers is:  66\n",
      "Enter the first number: 24\n",
      "Now enter the second number: forty\n",
      "\n",
      "I am looking for a number.  Please try again\n",
      "\n",
      "\n",
      "Enter the first number: 24\n",
      "Now enter the second number: 40\n",
      "\n",
      "The sum of these two numbers is:  64\n"
     ]
    }
   ],
   "source": [
    "while True:\n",
    "    try:\n",
    "        a = int(input(\"Enter the first number: \"))\n",
    "        b = int(input(\"Now enter the second number: \"))\n",
    "        \n",
    "    except ValueError:\n",
    "        print(\"\\nI am looking for a number.  Please try again\")\n",
    "        print(\"\\n\")\n",
    "    \n",
    "    else:\n",
    "        print('\\nThe sum of these two numbers is: ', a+b)"
   ]
  },
  {
   "cell_type": "code",
   "execution_count": null,
   "metadata": {},
   "outputs": [],
   "source": []
  },
  {
   "cell_type": "code",
   "execution_count": null,
   "metadata": {},
   "outputs": [],
   "source": []
  },
  {
   "cell_type": "code",
   "execution_count": null,
   "metadata": {},
   "outputs": [],
   "source": []
  }
 ],
 "metadata": {
  "kernelspec": {
   "display_name": "Python 3",
   "language": "python",
   "name": "python3"
  },
  "language_info": {
   "codemirror_mode": {
    "name": "ipython",
    "version": 3
   },
   "file_extension": ".py",
   "mimetype": "text/x-python",
   "name": "python",
   "nbconvert_exporter": "python",
   "pygments_lexer": "ipython3",
   "version": "3.7.6"
  }
 },
 "nbformat": 4,
 "nbformat_minor": 4
}
